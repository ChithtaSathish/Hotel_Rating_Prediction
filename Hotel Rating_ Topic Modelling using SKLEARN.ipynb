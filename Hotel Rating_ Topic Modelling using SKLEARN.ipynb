{
 "cells": [
  {
   "cell_type": "markdown",
   "metadata": {},
   "source": [
    "# Topic modelling using Scikit learn "
   ]
  },
  {
   "cell_type": "code",
   "execution_count": 3,
   "metadata": {},
   "outputs": [],
   "source": [
    "import pandas as pd\n",
    "import numpy as numpy\n",
    "import os\n",
    "from gensim.models.wrappers import LdaMallet\n",
    "from gensim.models.wrappers.ldamallet import malletmodel2ldamodel\n",
    "from sklearn.feature_extraction.text import TfidfVectorizer\n",
    "from sklearn.decomposition import LatentDirichletAllocation\n",
    "\n",
    "import warnings\n",
    "warnings.filterwarnings(\"ignore\",category=DeprecationWarning)\n",
    "\n",
    "import pickle"
   ]
  },
  {
   "cell_type": "code",
   "execution_count": 68,
   "metadata": {},
   "outputs": [
    {
     "data": {
      "text/html": [
       "<div>\n",
       "<style scoped>\n",
       "    .dataframe tbody tr th:only-of-type {\n",
       "        vertical-align: middle;\n",
       "    }\n",
       "\n",
       "    .dataframe tbody tr th {\n",
       "        vertical-align: top;\n",
       "    }\n",
       "\n",
       "    .dataframe thead th {\n",
       "        text-align: right;\n",
       "    }\n",
       "</style>\n",
       "<table border=\"1\" class=\"dataframe\">\n",
       "  <thead>\n",
       "    <tr style=\"text-align: right;\">\n",
       "      <th></th>\n",
       "      <th>ID</th>\n",
       "      <th>Review</th>\n",
       "      <th>Rating</th>\n",
       "    </tr>\n",
       "  </thead>\n",
       "  <tbody>\n",
       "    <tr>\n",
       "      <th>0</th>\n",
       "      <td>0</td>\n",
       "      <td>exceptional service nice daughter priced king ...</td>\n",
       "      <td>5</td>\n",
       "    </tr>\n",
       "    <tr>\n",
       "      <th>1</th>\n",
       "      <td>1</td>\n",
       "      <td>beautiful relaxing jw marriott desert ridge ou...</td>\n",
       "      <td>5</td>\n",
       "    </tr>\n",
       "    <tr>\n",
       "      <th>2</th>\n",
       "      <td>2</td>\n",
       "      <td>location location min subway take blommingdale...</td>\n",
       "      <td>5</td>\n",
       "    </tr>\n",
       "    <tr>\n",
       "      <th>3</th>\n",
       "      <td>3</td>\n",
       "      <td>pleased nice safe flower market vast array res...</td>\n",
       "      <td>3</td>\n",
       "    </tr>\n",
       "    <tr>\n",
       "      <th>4</th>\n",
       "      <td>4</td>\n",
       "      <td>excellent service excellent location couple mi...</td>\n",
       "      <td>4</td>\n",
       "    </tr>\n",
       "    <tr>\n",
       "      <th>...</th>\n",
       "      <td>...</td>\n",
       "      <td>...</td>\n",
       "      <td>...</td>\n",
       "    </tr>\n",
       "    <tr>\n",
       "      <th>14338</th>\n",
       "      <td>14338</td>\n",
       "      <td>madrid perfect location tiny quiet street cent...</td>\n",
       "      <td>5</td>\n",
       "    </tr>\n",
       "    <tr>\n",
       "      <th>14339</th>\n",
       "      <td>14339</td>\n",
       "      <td>excellent florence chosen tripadviser hidden g...</td>\n",
       "      <td>5</td>\n",
       "    </tr>\n",
       "    <tr>\n",
       "      <th>14340</th>\n",
       "      <td>14340</td>\n",
       "      <td>place relax vacation book trip paradisus husba...</td>\n",
       "      <td>4</td>\n",
       "    </tr>\n",
       "    <tr>\n",
       "      <th>14341</th>\n",
       "      <td>14341</td>\n",
       "      <td>week seattle loved minute pacific plaza buy im...</td>\n",
       "      <td>3</td>\n",
       "    </tr>\n",
       "    <tr>\n",
       "      <th>14342</th>\n",
       "      <td>14342</td>\n",
       "      <td>clear internet reservation friday rang hour ad...</td>\n",
       "      <td>1</td>\n",
       "    </tr>\n",
       "  </tbody>\n",
       "</table>\n",
       "<p>14343 rows × 3 columns</p>\n",
       "</div>"
      ],
      "text/plain": [
       "          ID                                             Review  Rating\n",
       "0          0  exceptional service nice daughter priced king ...       5\n",
       "1          1  beautiful relaxing jw marriott desert ridge ou...       5\n",
       "2          2  location location min subway take blommingdale...       5\n",
       "3          3  pleased nice safe flower market vast array res...       3\n",
       "4          4  excellent service excellent location couple mi...       4\n",
       "...      ...                                                ...     ...\n",
       "14338  14338  madrid perfect location tiny quiet street cent...       5\n",
       "14339  14339  excellent florence chosen tripadviser hidden g...       5\n",
       "14340  14340  place relax vacation book trip paradisus husba...       4\n",
       "14341  14341  week seattle loved minute pacific plaza buy im...       3\n",
       "14342  14342  clear internet reservation friday rang hour ad...       1\n",
       "\n",
       "[14343 rows x 3 columns]"
      ]
     },
     "execution_count": 68,
     "metadata": {},
     "output_type": "execute_result"
    }
   ],
   "source": [
    "train_data=pd.read_pickle(\"train_first_data.pkl\")\n",
    "train_data"
   ]
  },
  {
   "cell_type": "markdown",
   "metadata": {},
   "source": [
    "# For topic modelling using all text"
   ]
  },
  {
   "cell_type": "markdown",
   "metadata": {},
   "source": [
    "Vectorization of the text data with TF-IDF\n",
    "\n",
    "we can use other vectorization technique such as Bag of Words, Word2Vec, "
   ]
  },
  {
   "cell_type": "code",
   "execution_count": 5,
   "metadata": {},
   "outputs": [],
   "source": [
    "tfidf = TfidfVectorizer(max_features=10000)"
   ]
  },
  {
   "cell_type": "code",
   "execution_count": 25,
   "metadata": {},
   "outputs": [],
   "source": [
    "X=tfidf.fit_transform(train_data[\"Review\"])"
   ]
  },
  {
   "cell_type": "code",
   "execution_count": 8,
   "metadata": {},
   "outputs": [],
   "source": [
    "#here i am taking five topics\n",
    "lda = LatentDirichletAllocation(n_components=5,random_state=1)"
   ]
  },
  {
   "cell_type": "code",
   "execution_count": 9,
   "metadata": {},
   "outputs": [
    {
     "data": {
      "text/plain": [
       "LatentDirichletAllocation(n_components=5, random_state=1)"
      ]
     },
     "execution_count": 9,
     "metadata": {},
     "output_type": "execute_result"
    }
   ],
   "source": [
    "lda.fit(X)"
   ]
  },
  {
   "cell_type": "code",
   "execution_count": 10,
   "metadata": {},
   "outputs": [
    {
     "data": {
      "text/plain": [
       "'additionally'"
      ]
     },
     "execution_count": 10,
     "metadata": {},
     "output_type": "execute_result"
    }
   ],
   "source": [
    "tfidf.get_feature_names()[109]"
   ]
  },
  {
   "cell_type": "code",
   "execution_count": 11,
   "metadata": {},
   "outputs": [],
   "source": [
    "singletopic = lda.components_[0]"
   ]
  },
  {
   "cell_type": "code",
   "execution_count": 12,
   "metadata": {},
   "outputs": [],
   "source": [
    "topic1 = singletopic.argsort()[-20:]"
   ]
  },
  {
   "cell_type": "code",
   "execution_count": 13,
   "metadata": {},
   "outputs": [
    {
     "name": "stdout",
     "output_type": "stream",
     "text": [
      "desk\n",
      "friendly\n",
      "restaurant\n",
      "hotel\n",
      "street\n",
      "price\n",
      "area\n",
      "view\n",
      "floor\n",
      "bathroom\n",
      "place\n",
      "clean\n",
      "small\n",
      "service\n",
      "breakfast\n",
      "bed\n",
      "nice\n",
      "staff\n",
      "room\n",
      "location\n"
     ]
    }
   ],
   "source": [
    "for j in topic1:\n",
    "    print(tfidf.get_feature_names()[j])"
   ]
  },
  {
   "cell_type": "code",
   "execution_count": 14,
   "metadata": {},
   "outputs": [
    {
     "name": "stdout",
     "output_type": "stream",
     "text": [
      "number of topics: 5\n",
      "number of columns of lda fit: 10000\n"
     ]
    }
   ],
   "source": [
    "print(\"number of topics:\", len(lda.components_))\n",
    "print(\"number of columns of lda fit:\", len(lda.components_[0]) )"
   ]
  },
  {
   "cell_type": "code",
   "execution_count": 20,
   "metadata": {},
   "outputs": [],
   "source": [
    "feature=tfidf.get_feature_names()"
   ]
  },
  {
   "cell_type": "code",
   "execution_count": 21,
   "metadata": {},
   "outputs": [
    {
     "name": "stdout",
     "output_type": "stream",
     "text": [
      "top 50 words in topics0\n",
      "-------------------------\n",
      "['thing', 'experience', 'car', 'suite', 'rate', 'window', 'recommend', 'problem', 'morning', 'lobby', 'internet', 'star', 'parking', 'large', 'bar', 'bit', 'review', 'noise', 'door', 'booked', 'minute', 'shower', 'check', 'walk', 'night', 'free', 'excellent', 'city', 'helpful', 'comfortable', 'desk', 'friendly', 'restaurant', 'hotel', 'street', 'price', 'area', 'view', 'floor', 'bathroom', 'place', 'clean', 'small', 'service', 'breakfast', 'bed', 'nice', 'staff', 'room', 'location'] \n",
      "\n",
      "\n",
      "top 50 words in topics1\n",
      "-------------------------\n",
      "['spanish', 'lot', 'tip', 'couple', 'chair', 'eat', 'island', 'area', 'friendly', 'activity', 'towel', 'entertainment', 'family', 'husband', 'dinner', 'loved', 'amazing', 'hour', 'year', 'clean', 'club', 'day', 'review', 'ground', 'bad', 'wonderful', 'problem', 'room', 'thing', 'ocean', 'fun', 'make', 'kid', 'week', 'trip', 'buffet', 'bar', 'staff', 'place', 'drink', 'nice', 'water', 'service', 'vacation', 'restaurant', 'beautiful', 'people', 'pool', 'food', 'beach'] \n",
      "\n",
      "\n",
      "top 50 words in topics2\n",
      "-------------------------\n",
      "['hostal', 'eileen', 'est', 'harvard', 'poland', 'yep', 'rink', 'ungherese', 'shaw', 'amandari', 'tel', 'pl', 'tout', 'costco', 'centralized', 'everwhere', 'leicester', 'santiago', 'bvi', 'chianti', 'recommened', 'abel', 'oberoi', 'thierry', 'manny', 'keeper', 'bencoolen', 'sophistication', 'sergio', 'vincents', 'tuilleries', 'equus', 'dai', 'ichi', 'adn', 'auto', 'bt', 'sapna', 'sabrina', 'hogar', 'mixup', 'safeco', 'dynasty', 'nouvel', 'ilikai', 'doumo', 'sedan', 'laura', 'uniquely', 'uma'] \n",
      "\n",
      "\n",
      "top 50 words in topics3\n",
      "-------------------------\n",
      "['aswell', 'du', 'cadran', 'kayser', 'kartika', 'hideaway', 'aubusson', 'kodak', 'adore', 'gina', 'campanile', 'ellie', 'monge', 'galeries', 'excelent', 'europa', 'disapoint', 'vaparetto', 'eric', 'atlantico', 'cellai', 'mouffetard', 'auberge', 'tx', 'rue', 'pendini', 'neri', 'sainte', 'za', 'perle', 'tourville', 'orto', 'walter', 'mocenigo', 'sandro', 'sanjay', 'medici', 'brighton', 'colomba', 'monte', 'rosanna', 'artus', 'keppler', 'carlo', 'jardin', 'miriam', 'gassim', 'miramar', 'milano', 'rex'] \n",
      "\n",
      "\n",
      "top 50 words in topics4\n",
      "-------------------------\n",
      "['spacious', 'large', 'easy', 'bed', 'paris', 'bus', 'highly', 'price', 'train', 'street', 'bar', 'central', 'bathroom', 'distance', 'loved', 'service', 'area', 'located', 'amsterdam', 'metro', 'florence', 'small', 'walking', 'modern', 'close', 'quiet', 'barcelona', 'view', 'night', 'restaurant', 'minute', 'perfect', 'wonderful', 'place', 'lovely', 'fantastic', 'city', 'comfortable', 'recommend', 'station', 'walk', 'nice', 'room', 'friendly', 'helpful', 'breakfast', 'clean', 'excellent', 'staff', 'location'] \n",
      "\n",
      "\n"
     ]
    }
   ],
   "source": [
    "for ind ,topic in enumerate(lda.components_):\n",
    "    print(\"top 50 words in topics{}\".format(ind))\n",
    "    print('-'*25)\n",
    "    top_50=topic.argsort()[-50:]\n",
    "    print([feature[i] for i in top_50], '\\n\\n')\n",
    "    "
   ]
  },
  {
   "cell_type": "markdown",
   "metadata": {},
   "source": [
    "# Topic modeling Noun only"
   ]
  },
  {
   "cell_type": "code",
   "execution_count": 22,
   "metadata": {},
   "outputs": [],
   "source": [
    "from nltk import word_tokenize, pos_tag\n",
    "\n",
    "def nouns(text):\n",
    "    '''Given a string of text, tokenize the text and pull out only the nouns.'''\n",
    "    is_noun = lambda pos: pos[:2] == 'NN'\n",
    "    tokenized = word_tokenize(text)\n",
    "    all_nouns = [word for (word, pos) in pos_tag(tokenized) if is_noun(pos)] \n",
    "    return ' '.join(all_nouns)"
   ]
  },
  {
   "cell_type": "code",
   "execution_count": 23,
   "metadata": {},
   "outputs": [],
   "source": [
    "# Apply the nouns function to the Text  to filter only on nouns\n",
    "train_data[\"noun\"]=train_data[\"Review\"].apply(nouns)"
   ]
  },
  {
   "cell_type": "code",
   "execution_count": 24,
   "metadata": {},
   "outputs": [
    {
     "data": {
      "text/html": [
       "<div>\n",
       "<style scoped>\n",
       "    .dataframe tbody tr th:only-of-type {\n",
       "        vertical-align: middle;\n",
       "    }\n",
       "\n",
       "    .dataframe tbody tr th {\n",
       "        vertical-align: top;\n",
       "    }\n",
       "\n",
       "    .dataframe thead th {\n",
       "        text-align: right;\n",
       "    }\n",
       "</style>\n",
       "<table border=\"1\" class=\"dataframe\">\n",
       "  <thead>\n",
       "    <tr style=\"text-align: right;\">\n",
       "      <th></th>\n",
       "      <th>ID</th>\n",
       "      <th>Review</th>\n",
       "      <th>Rating</th>\n",
       "      <th>noun</th>\n",
       "    </tr>\n",
       "  </thead>\n",
       "  <tbody>\n",
       "    <tr>\n",
       "      <th>0</th>\n",
       "      <td>0</td>\n",
       "      <td>exceptional service nice daughter priced king ...</td>\n",
       "      <td>5</td>\n",
       "      <td>service daughter weekend night service reserva...</td>\n",
       "    </tr>\n",
       "    <tr>\n",
       "      <th>1</th>\n",
       "      <td>1</td>\n",
       "      <td>beautiful relaxing jw marriott desert ridge ou...</td>\n",
       "      <td>5</td>\n",
       "      <td>jw marriott desert ridge accommodation busines...</td>\n",
       "    </tr>\n",
       "    <tr>\n",
       "      <th>2</th>\n",
       "      <td>2</td>\n",
       "      <td>location location min subway take blommingdale...</td>\n",
       "      <td>5</td>\n",
       "      <td>location location blommingdales min walk macy ...</td>\n",
       "    </tr>\n",
       "    <tr>\n",
       "      <th>3</th>\n",
       "      <td>3</td>\n",
       "      <td>pleased nice safe flower market vast array res...</td>\n",
       "      <td>3</td>\n",
       "      <td>flower market array restaurant gay district di...</td>\n",
       "    </tr>\n",
       "    <tr>\n",
       "      <th>4</th>\n",
       "      <td>4</td>\n",
       "      <td>excellent service excellent location couple mi...</td>\n",
       "      <td>4</td>\n",
       "      <td>service location couple minute walk duomo davi...</td>\n",
       "    </tr>\n",
       "  </tbody>\n",
       "</table>\n",
       "</div>"
      ],
      "text/plain": [
       "   ID                                             Review  Rating  \\\n",
       "0   0  exceptional service nice daughter priced king ...       5   \n",
       "1   1  beautiful relaxing jw marriott desert ridge ou...       5   \n",
       "2   2  location location min subway take blommingdale...       5   \n",
       "3   3  pleased nice safe flower market vast array res...       3   \n",
       "4   4  excellent service excellent location couple mi...       4   \n",
       "\n",
       "                                                noun  \n",
       "0  service daughter weekend night service reserva...  \n",
       "1  jw marriott desert ridge accommodation busines...  \n",
       "2  location location blommingdales min walk macy ...  \n",
       "3  flower market array restaurant gay district di...  \n",
       "4  service location couple minute walk duomo davi...  "
      ]
     },
     "execution_count": 24,
     "metadata": {},
     "output_type": "execute_result"
    }
   ],
   "source": [
    "train_data.head()"
   ]
  },
  {
   "cell_type": "code",
   "execution_count": 26,
   "metadata": {},
   "outputs": [],
   "source": [
    "tfidf = TfidfVectorizer(max_features=10000)"
   ]
  },
  {
   "cell_type": "code",
   "execution_count": 28,
   "metadata": {},
   "outputs": [],
   "source": [
    "X=tfidf.fit_transform(train_data[\"noun\"])"
   ]
  },
  {
   "cell_type": "code",
   "execution_count": 30,
   "metadata": {},
   "outputs": [],
   "source": [
    "lda_noun = LatentDirichletAllocation(n_components=5,random_state=5)"
   ]
  },
  {
   "cell_type": "code",
   "execution_count": 31,
   "metadata": {},
   "outputs": [
    {
     "data": {
      "text/plain": [
       "LatentDirichletAllocation(n_components=5, random_state=5)"
      ]
     },
     "execution_count": 31,
     "metadata": {},
     "output_type": "execute_result"
    }
   ],
   "source": [
    "lda_noun.fit(X)"
   ]
  },
  {
   "cell_type": "code",
   "execution_count": 32,
   "metadata": {},
   "outputs": [],
   "source": [
    "feature=tfidf.get_feature_names()"
   ]
  },
  {
   "cell_type": "code",
   "execution_count": 33,
   "metadata": {},
   "outputs": [
    {
     "name": "stdout",
     "output_type": "stream",
     "text": [
      "top 50 words in topics0\n",
      "-------------------------\n",
      "['work', 'door', 'airport', 'reservation', 'bit', 'night', 'fun', 'club', 'money', 'drink', 'dinner', 'bed', 'car', 'star', 'husband', 'family', 'morning', 'hotel', 'buffet', 'lobby', 'bathroom', 'check', 'price', 'year', 'floor', 'experience', 'day', 'breakfast', 'review', 'location', 'week', 'hour', 'view', 'desk', 'vacation', 'trip', 'problem', 'thing', 'area', 'bar', 'water', 'restaurant', 'people', 'room', 'place', 'staff', 'service', 'pool', 'food', 'beach'] \n",
      "\n",
      "\n",
      "top 50 words in topics1\n",
      "-------------------------\n",
      "['gordon', 'reservation', 'za', 'deca', 'davanzati', 'bargellino', 'arno', 'atlantico', 'exceptional', 'croce', 'pillowcase', 'kindness', 'recommand', 'siena', 'value', 'gladstone', 'sabina', 'faenza', 'charlesmark', 'buckingham', 'duret', 'bassano', 'fabrizio', 'porta', 'perseo', 'michelangiolo', 'colomba', 'angela', 'rosanna', 'globus', 'albion', 'hospitality', 'drury', 'andra', 'cartwright', 'miriam', 'foch', 'hommes', 'medici', 'gassim', 'novella', 'alessandra', 'residence', 'il', 'duomo', 'accademia', 'italy', 'europa', 'casci', 'florence'] \n",
      "\n",
      "\n",
      "top 50 words in topics2\n",
      "-------------------------\n",
      "['germaine', 'indulge', 'shenzhen', 'vist', 'realy', 'pret', 'anna', 'imac', 'galeries', 'frenchman', 'doumo', 'cirque', 'ascott', 'sonesta', 'ecole', 'zaza', 'lent', 'flashy', 'wit', 'akasaka', 'verry', 'grimani', 'plein', 'boulevard', 'sharmila', 'ricardo', 'agusti', 'transporation', 'fabienne', 'agora', 'bleach', 'alan', 'tapatio', 'fusion', 'kok', 'pres', 'militaire', 'dc', 'keppler', 'aubusson', 'hail', 'altamont', 'monte', 'pantheon', 'carlo', 'pavement', 'cliff', 'bravo', 'colon', 'rex'] \n",
      "\n",
      "\n",
      "top 50 words in topics3\n",
      "-------------------------\n",
      "['tv', 'time', 'food', 'min', 'access', 'visit', 'money', 'rate', 'star', 'business', 'paris', 'experience', 'weekend', 'internet', 'block', 'choice', 'barcelona', 'bus', 'coffee', 'reception', 'recommend', 'metro', 'size', 'train', 'florence', 'bit', 'review', 'trip', 'distance', 'bar', 'hotel', 'bed', 'minute', 'walk', 'floor', 'restaurant', 'street', 'area', 'price', 'night', 'service', 'view', 'place', 'bathroom', 'station', 'city', 'room', 'breakfast', 'staff', 'location'] \n",
      "\n",
      "\n",
      "top 50 words in topics4\n",
      "-------------------------\n",
      "['concertgebouw', 'snapper', 'gioconda', 'martinez', 'dude', 'burbon', 'catalunia', 'pino', 'bf', 'endorse', 'caransa', 'allways', 'duc', 'angeles', 'df', 'frankie', 'hmmm', 'awfull', 'mouldy', 'crane', 'nh', 'artus', 'rennovation', 'quater', 'mocenigo', 'maison', 'cellai', 'cast', 'laura', 'rai', 'vibration', 'geat', 'pi', 'sanjay', 'confortel', 'alexis', 'resturaunts', 'fenway', 'vaporetto', 'definatley', 'sandro', 'carmel', 'menzies', 'walter', 'della', 'vondel', 'marathon', 'richelieu', 'mardi', 'gras'] \n",
      "\n",
      "\n"
     ]
    }
   ],
   "source": [
    "for ind ,topic in enumerate(lda_noun.components_):\n",
    "    print(\"top 50 words in topics{}\".format(ind))\n",
    "    print('-'*25)\n",
    "    top_50=topic.argsort()[-50:]\n",
    "    print([feature[i] for i in top_50], '\\n\\n')"
   ]
  },
  {
   "cell_type": "markdown",
   "metadata": {},
   "source": [
    "# Topic modeling Noun and Adjuctive"
   ]
  },
  {
   "cell_type": "code",
   "execution_count": 34,
   "metadata": {},
   "outputs": [],
   "source": [
    "def noun_adj(text):\n",
    "    '''Given a string of text, tokenize the text and pull out only the nouns.'''\n",
    "    is_noun_adj = lambda pos: pos[:2] == 'NN' or pos[:2]=='JJ'\n",
    "    tokenized = word_tokenize(text)\n",
    "    all_nouns_adj = [word for (word, pos) in pos_tag(tokenized) if is_noun_adj(pos)] \n",
    "    return ' '.join(all_nouns_adj)"
   ]
  },
  {
   "cell_type": "code",
   "execution_count": 36,
   "metadata": {},
   "outputs": [],
   "source": [
    "# Apply the nouns function to the Text  to filter only on nouns\n",
    "train_data[\"noun_adj\"]=train_data[\"Review\"].apply(noun_adj)"
   ]
  },
  {
   "cell_type": "code",
   "execution_count": 37,
   "metadata": {},
   "outputs": [
    {
     "data": {
      "text/html": [
       "<div>\n",
       "<style scoped>\n",
       "    .dataframe tbody tr th:only-of-type {\n",
       "        vertical-align: middle;\n",
       "    }\n",
       "\n",
       "    .dataframe tbody tr th {\n",
       "        vertical-align: top;\n",
       "    }\n",
       "\n",
       "    .dataframe thead th {\n",
       "        text-align: right;\n",
       "    }\n",
       "</style>\n",
       "<table border=\"1\" class=\"dataframe\">\n",
       "  <thead>\n",
       "    <tr style=\"text-align: right;\">\n",
       "      <th></th>\n",
       "      <th>ID</th>\n",
       "      <th>Review</th>\n",
       "      <th>Rating</th>\n",
       "      <th>noun</th>\n",
       "      <th>noun_adj</th>\n",
       "    </tr>\n",
       "  </thead>\n",
       "  <tbody>\n",
       "    <tr>\n",
       "      <th>0</th>\n",
       "      <td>0</td>\n",
       "      <td>exceptional service nice daughter priced king ...</td>\n",
       "      <td>5</td>\n",
       "      <td>service daughter weekend night service reserva...</td>\n",
       "      <td>exceptional service nice daughter suite weeken...</td>\n",
       "    </tr>\n",
       "    <tr>\n",
       "      <th>1</th>\n",
       "      <td>1</td>\n",
       "      <td>beautiful relaxing jw marriott desert ridge ou...</td>\n",
       "      <td>5</td>\n",
       "      <td>jw marriott desert ridge accommodation busines...</td>\n",
       "      <td>beautiful jw marriott desert ridge outstanding...</td>\n",
       "    </tr>\n",
       "    <tr>\n",
       "      <th>2</th>\n",
       "      <td>2</td>\n",
       "      <td>location location min subway take blommingdale...</td>\n",
       "      <td>5</td>\n",
       "      <td>location location blommingdales min walk macy ...</td>\n",
       "      <td>location location take blommingdales perfect m...</td>\n",
       "    </tr>\n",
       "    <tr>\n",
       "      <th>3</th>\n",
       "      <td>3</td>\n",
       "      <td>pleased nice safe flower market vast array res...</td>\n",
       "      <td>3</td>\n",
       "      <td>flower market array restaurant gay district di...</td>\n",
       "      <td>pleased nice safe flower market vast array res...</td>\n",
       "    </tr>\n",
       "    <tr>\n",
       "      <th>4</th>\n",
       "      <td>4</td>\n",
       "      <td>excellent service excellent location couple mi...</td>\n",
       "      <td>4</td>\n",
       "      <td>service location couple minute walk duomo davi...</td>\n",
       "      <td>excellent service excellent location couple mi...</td>\n",
       "    </tr>\n",
       "  </tbody>\n",
       "</table>\n",
       "</div>"
      ],
      "text/plain": [
       "   ID                                             Review  Rating  \\\n",
       "0   0  exceptional service nice daughter priced king ...       5   \n",
       "1   1  beautiful relaxing jw marriott desert ridge ou...       5   \n",
       "2   2  location location min subway take blommingdale...       5   \n",
       "3   3  pleased nice safe flower market vast array res...       3   \n",
       "4   4  excellent service excellent location couple mi...       4   \n",
       "\n",
       "                                                noun  \\\n",
       "0  service daughter weekend night service reserva...   \n",
       "1  jw marriott desert ridge accommodation busines...   \n",
       "2  location location blommingdales min walk macy ...   \n",
       "3  flower market array restaurant gay district di...   \n",
       "4  service location couple minute walk duomo davi...   \n",
       "\n",
       "                                            noun_adj  \n",
       "0  exceptional service nice daughter suite weeken...  \n",
       "1  beautiful jw marriott desert ridge outstanding...  \n",
       "2  location location take blommingdales perfect m...  \n",
       "3  pleased nice safe flower market vast array res...  \n",
       "4  excellent service excellent location couple mi...  "
      ]
     },
     "execution_count": 37,
     "metadata": {},
     "output_type": "execute_result"
    }
   ],
   "source": [
    "train_data.head()"
   ]
  },
  {
   "cell_type": "code",
   "execution_count": 38,
   "metadata": {},
   "outputs": [],
   "source": [
    "tfidf = TfidfVectorizer(max_features=10000)\n",
    "X=tfidf.fit_transform(train_data[\"noun_adj\"])"
   ]
  },
  {
   "cell_type": "code",
   "execution_count": 39,
   "metadata": {},
   "outputs": [],
   "source": [
    "lda_noun_adj = LatentDirichletAllocation(n_components=5,random_state=5)"
   ]
  },
  {
   "cell_type": "code",
   "execution_count": 40,
   "metadata": {},
   "outputs": [
    {
     "data": {
      "text/plain": [
       "LatentDirichletAllocation(n_components=5, random_state=5)"
      ]
     },
     "execution_count": 40,
     "metadata": {},
     "output_type": "execute_result"
    }
   ],
   "source": [
    "lda_noun_adj.fit(X)"
   ]
  },
  {
   "cell_type": "code",
   "execution_count": 41,
   "metadata": {},
   "outputs": [],
   "source": [
    "feature=tfidf.get_feature_names()"
   ]
  },
  {
   "cell_type": "code",
   "execution_count": 42,
   "metadata": {},
   "outputs": [
    {
     "name": "stdout",
     "output_type": "stream",
     "text": [
      "top 50 words in topics0\n",
      "-------------------------\n",
      "['couple', 'work', 'excellent', 'small', 'reservation', 'minute', 'lobby', 'ocean', 'ground', 'dinner', 'family', 'view', 'check', 'kid', 'husband', 'towel', 'star', 'experience', 'drink', 'club', 'fun', 'guest', 'year', 'wonderful', 'day', 'review', 'hour', 'buffet', 'area', 'desk', 'clean', 'bad', 'week', 'problem', 'thing', 'trip', 'vacation', 'bar', 'room', 'water', 'beautiful', 'restaurant', 'place', 'staff', 'nice', 'people', 'service', 'pool', 'food', 'beach'] \n",
      "\n",
      "\n",
      "top 50 words in topics1\n",
      "-------------------------\n",
      "['seine', 'bassano', 'pine', 'walt', 'moulin', 'preciados', 'verry', 'andrea', 'draycott', 'rouge', 'albion', 'colon', 'varenne', 'relais', 'brighton', 'omni', 'rer', 'excelent', 'residence', 'parisian', 'metro', 'marais', 'aubusson', 'duquesne', 'montecarlo', 'lombard', 'duret', 'magda', 'charles', 'le', 'france', 'hen', 'foch', 'cow', 'stag', 'cler', 'columbus', 'hollow', 'adagio', 'elysees', 'chelsea', 'motor', 'muse', 'rue', 'pulitzer', 'eiffel', 'arc', 'triomphe', 'champ', 'paris'] \n",
      "\n",
      "\n",
      "top 50 words in topics2\n",
      "-------------------------\n",
      "['attentative', 'guelfo', 'emporio', 'beachcomber', 'hogar', 'samaya', 'alta', 'competition', 'ricky', 'bianco', 'viladomat', 'auditori', 'competent', 'infestation', 'overnite', 'caransa', 'paral', 'dungeon', 'gina', 'df', 'olympic', 'brewery', 'brian', 'hated', 'mazarin', 'filter', 'pressed', 'lel', 'centro', 'burbon', 'caravaggio', 'plein', 'zocalo', 'gloomy', 'owl', 'confortel', 'senator', 'recommand', 'pokey', 'citizenm', 'expo', 'axel', 'aviatic', 'mayflower', 'armes', 'monte', 'carlo', 'catedral', 'rembrandt', 'millenium'] \n",
      "\n",
      "\n",
      "top 50 words in topics3\n",
      "-------------------------\n",
      "['quarter', 'francisco', 'car', 'review', 'experience', 'paris', 'fabulous', 'spacious', 'bed', 'floor', 'price', 'modern', 'ramblas', 'recommend', 'walk', 'venice', 'bar', 'hotel', 'suite', 'minute', 'large', 'la', 'beautiful', 'trip', 'area', 'quiet', 'friendly', 'restaurant', 'bathroom', 'night', 'street', 'small', 'place', 'comfortable', 'service', 'barcelona', 'city', 'fantastic', 'perfect', 'view', 'clean', 'florence', 'wonderful', 'nice', 'excellent', 'room', 'helpful', 'breakfast', 'staff', 'location'] \n",
      "\n",
      "\n",
      "top 50 words in topics4\n",
      "-------------------------\n",
      "['airport', 'bus', 'trip', 'amsterdam', 'block', 'rate', 'review', 'business', 'perfect', 'recommend', 'square', 'easy', 'shower', 'bit', 'distance', 'fantastic', 'central', 'internet', 'large', 'bar', 'modern', 'quiet', 'hotel', 'friendly', 'free', 'walk', 'bed', 'minute', 'night', 'restaurant', 'floor', 'street', 'view', 'area', 'service', 'price', 'station', 'bathroom', 'place', 'city', 'comfortable', 'small', 'helpful', 'excellent', 'nice', 'clean', 'breakfast', 'room', 'staff', 'location'] \n",
      "\n",
      "\n"
     ]
    }
   ],
   "source": [
    "for ind ,topic in enumerate(lda_noun_adj.components_):\n",
    "    print(\"top 50 words in topics{}\".format(ind))\n",
    "    print('-'*25)\n",
    "    top_50=topic.argsort()[-50:]\n",
    "    print([feature[i] for i in top_50], '\\n\\n')"
   ]
  },
  {
   "cell_type": "code",
   "execution_count": null,
   "metadata": {},
   "outputs": [],
   "source": []
  },
  {
   "cell_type": "code",
   "execution_count": 56,
   "metadata": {},
   "outputs": [],
   "source": [
    "tfidf = TfidfVectorizer(max_features=10000,ngram_range=(2,2))"
   ]
  },
  {
   "cell_type": "code",
   "execution_count": 57,
   "metadata": {},
   "outputs": [],
   "source": [
    "X=tfidf.fit_transform(train_data[\"Review\"])"
   ]
  },
  {
   "cell_type": "code",
   "execution_count": 62,
   "metadata": {},
   "outputs": [],
   "source": [
    "lda_bigram = LatentDirichletAllocation(n_components=5,random_state=5)"
   ]
  },
  {
   "cell_type": "code",
   "execution_count": 63,
   "metadata": {},
   "outputs": [
    {
     "data": {
      "text/plain": [
       "LatentDirichletAllocation(n_components=5, random_state=5)"
      ]
     },
     "execution_count": 63,
     "metadata": {},
     "output_type": "execute_result"
    }
   ],
   "source": [
    "lda_bigram.fit(X)"
   ]
  },
  {
   "cell_type": "code",
   "execution_count": 64,
   "metadata": {},
   "outputs": [],
   "source": [
    "feature=tfidf.get_feature_names()"
   ]
  },
  {
   "cell_type": "code",
   "execution_count": 65,
   "metadata": {},
   "outputs": [
    {
     "name": "stdout",
     "output_type": "stream",
     "text": [
      "top 50 words in topics0\n",
      "-------------------------\n",
      "['bathroom clean', 'reception staff', 'bit small', 'centrally located', 'double bed', 'perfect location', 'size bed', 'metro station', 'clean staff', 'easy walk', 'nice touch', 'helpful staff', 'central location', 'min walk', 'location excellent', 'location close', 'screen tv', 'comfortable bed', 'trip advisor', 'air conditioning', 'bathroom small', 'french quarter', 'flat screen', 'breakfast buffet', 'eiffel tower', 'breakfast included', 'excellent location', 'location perfect', 'staff extremely', 'desk staff', 'room clean', 'continental breakfast', 'short walk', 'free internet', 'internet access', 'cable car', 'highly recommend', 'friendly staff', 'helpful friendly', 'bed comfortable', 'clean comfortable', 'time square', 'train station', 'union square', 'room small', 'minute walk', 'walking distance', 'friendly helpful', 'staff helpful', 'staff friendly'] \n",
      "\n",
      "\n",
      "top 50 words in topics1\n",
      "-------------------------\n",
      "['nice breakfast', 'darling harbour', 'la rambla', 'bus stop', 'flat screen', 'place eat', 'spent night', 'space needle', 'breakfast included', 'reception staff', 'location walking', 'room large', 'free internet', 'nice touch', 'staff extremely', 'room small', 'centrally located', 'metro station', 'desk staff', 'tea coffee', 'location perfect', 'extremely helpful', 'clean staff', 'location location', 'highly recommended', 'friendly staff', 'buffet breakfast', 'bed comfortable', 'bar restaurant', 'short walk', 'internet access', 'air conditioning', 'clean comfortable', 'breakfast buffet', 'helpful staff', 'mini bar', 'location excellent', 'comfortable bed', 'highly recommend', 'room clean', 'min walk', 'train station', 'la ramblas', 'excellent location', 'friendly helpful', 'staff helpful', 'hong kong', 'staff friendly', 'walking distance', 'minute walk'] \n",
      "\n",
      "\n",
      "top 50 words in topics2\n",
      "-------------------------\n",
      "['bed comfortable', 'location barcelona', 'nob hill', 'check told', 'star price', 'bed bug', 'view park', 'matter worse', 'hot water', 'motor inn', 'extremely rude', 'nice bed', 'lobby nice', 'big disappointment', 'time year', 'mardi gras', 'nice view', 'make matter', 'service service', 'service terrible', 'parking parking', 'highly recommend', 'credit card', 'bad experience', 'room ready', 'millenium hilton', 'location center', 'star property', 'staff friendly', 'friendly staff', 'aqua palm', 'worst experience', 'excellent service', 'breakfast buffet', 'battery park', 'star star', 'parking garage', 'place armes', 'cow hollow', 'statue liberty', 'ritz carlton', 'worth money', 'terrible service', 'building site', 'air conditioning', 'french quarter', 'nice place', 'ocean view', 'bad service', 'holiday inn'] \n",
      "\n",
      "\n",
      "top 50 words in topics3\n",
      "-------------------------\n",
      "['steak house', 'language barrier', 'work hard', 'big deal', 'white sand', 'beach beach', 'bad review', 'hot water', 'food excellent', 'beach area', 'italian restaurant', 'lobby bar', 'lounge chair', 'lunch dinner', 'food service', 'mini bar', 'palm tree', 'room clean', 'travel agent', 'customer service', 'food buffet', 'bottled water', 'reading review', 'kid club', 'speak spanish', 'breakfast lunch', 'walk beach', 'make reservation', 'negative review', 'dominican republic', 'highly recommend', 'beach nice', 'ground beautiful', 'swim bar', 'food drink', 'carte restaurant', 'ocean view', 'pool nice', 'beautiful beach', 'read review', 'speak english', 'royal service', 'puerto rico', 'pool bar', 'staff friendly', 'beach beautiful', 'pool area', 'la carte', 'beach pool', 'pool beach'] \n",
      "\n",
      "\n",
      "top 50 words in topics4\n",
      "-------------------------\n",
      "['easy access', 'highly recommended', 'continental breakfast', 'train station', 'year ago', 'internet access', 'crowne plaza', 'clean comfortable', 'previous review', 'clean small', 'comfortable bed', 'fantastic service', 'minute walk', 'location close', 'short walk', 'loved loved', 'superb location', 'central station', 'breakfast buffet', 'nice location', 'floor view', 'excellent location', 'staff nice', 'spent night', 'room nice', 'free internet', 'wall paper', 'harbour view', 'club lounge', 'desk staff', 'web site', 'room clean', 'bed comfortable', 'clean bed', 'waikiki beach', 'customer service', 'breakfast included', 'min walk', 'location staff', 'buffet breakfast', 'highly recommend', 'walking distance', 'location perfect', 'staff helpful', 'credit card', 'ritz carlton', 'perfect location', 'friendly staff', 'friendly helpful', 'staff friendly'] \n",
      "\n",
      "\n"
     ]
    }
   ],
   "source": [
    "for ind ,topic in enumerate(lda_bigram.components_):\n",
    "    print(\"top 50 words in topics{}\".format(ind))\n",
    "    print('-'*25)\n",
    "    top_50=topic.argsort()[-50:]\n",
    "    print([feature[i] for i in top_50], '\\n\\n')"
   ]
  },
  {
   "cell_type": "markdown",
   "metadata": {},
   "source": [
    "# Trigram model"
   ]
  },
  {
   "cell_type": "code",
   "execution_count": 51,
   "metadata": {},
   "outputs": [],
   "source": [
    "tfidf = TfidfVectorizer(max_features=10000,ngram_range=(3,3))\n",
    "X=tfidf.fit_transform(train_data[\"Review\"])"
   ]
  },
  {
   "cell_type": "code",
   "execution_count": 52,
   "metadata": {},
   "outputs": [],
   "source": [
    "lda_trigram = LatentDirichletAllocation(n_components=5,random_state=5)"
   ]
  },
  {
   "cell_type": "code",
   "execution_count": 53,
   "metadata": {},
   "outputs": [
    {
     "data": {
      "text/plain": [
       "LatentDirichletAllocation(n_components=5, random_state=5)"
      ]
     },
     "execution_count": 53,
     "metadata": {},
     "output_type": "execute_result"
    }
   ],
   "source": [
    "lda_trigram.fit(X)"
   ]
  },
  {
   "cell_type": "code",
   "execution_count": 54,
   "metadata": {},
   "outputs": [],
   "source": [
    "feature=tfidf.get_feature_names()"
   ]
  },
  {
   "cell_type": "code",
   "execution_count": 55,
   "metadata": {},
   "outputs": [
    {
     "name": "stdout",
     "output_type": "stream",
     "text": [
      "top 50 words in topics0\n",
      "-------------------------\n",
      "['bathroom large tub', 'reception staff spoke', 'big double bed', 'celebrate wedding anniversary', 'desk staff spoke', 'pay rack rate', 'size bed twin', 'marriott reward point', 'clean friendly location', 'dr melia caribe', 'nice city view', 'helpful courteous breakfast', 'cd dvd player', 'metro easy cheap', 'located staff friendly', 'located main street', 'safe iron board', 'cleaning lady clean', 'train bus station', 'air conditioning enjoy', 'bathroom small adequate', 'french toast pancake', 'floor facing courtyard', 'bottled water pop', 'drinking water provided', 'breakfast buffet expensive', 'entertainment staff friendly', 'location close central', 'staff efficient friendly', 'daily continental breakfast', 'room flat screen', 'comfortable bathroom lovely', 'short walk train', 'free wifi room', 'incredibly comfortable bed', 'business district weekend', 'helpful room nice', 'friendly helpful direction', 'heard construction noise', 'beautiful service excellent', 'clean bed hard', 'taxi public transport', 'towel beach chair', 'tv nice touch', 'room small american', 'min walk beach', 'walk park area', 'friendly efficient staff', 'staff extremely warm', 'staff exceptionally polite'] \n",
      "\n",
      "\n",
      "top 50 words in topics1\n",
      "-------------------------\n",
      "['modern clean spacious', 'computer free internet', 'kid pool kid', 'buffet restaurant lobby', 'floor facing courtyard', 'pizza french fry', 'sport bar open', 'speak english make', 'breakfast buffet expensive', 'reception staff spoke', 'location fantastic view', 'room needed updating', 'free wifi room', 'nice city view', 'staff efficient friendly', 'room small american', 'celebrate wedding anniversary', 'marriott reward point', 'daily continental breakfast', 'sugar cane field', 'location close central', 'executive level lounge', 'clean friendly location', 'location central min', 'helpful room small', 'friendly helpful direction', 'breakfast worth euro', 'beautiful service excellent', 'barcelona wonderful city', 'short walk train', 'incredibly comfortable bed', 'air conditioning enjoy', 'clean bed hard', 'bottled water pop', 'helpful courteous breakfast', 'metro station block', 'located staff friendly', 'cleaning lady clean', 'helpful room nice', 'room flat screen', 'metro easy cheap', 'towel beach chair', 'kid running screaming', 'entertainment staff friendly', 'friendly efficient staff', 'staff extremely warm', 'high rise condo', 'staff exceptionally polite', 'walk park area', 'min walk beach'] \n",
      "\n",
      "\n",
      "top 50 words in topics2\n",
      "-------------------------\n",
      "['beautiful service excellent', 'located block beach', 'nice plenty chair', 'check breeze arrived', 'staff helpful service', 'beautiful pool ocean', 'view chrysler building', 'make make reservation', 'highly recommend property', 'minute walk duomo', 'expect pleasantly surprised', 'modern clean friendly', 'light sleeper bother', 'bed roll bed', 'taxi ride minute', 'major tourist attraction', 'nice clean felt', 'maid service clean', 'service pool beach', 'service slow time', 'offensive food ood', 'helpful room nice', 'comfy bed nice', 'balcony wonderful view', 'room room nice', 'met interesting people', 'located fisherman wharf', 'staff helpful small', 'staff exceptionally polite', 'friendly helpful direction', 'area bit shabby', 'wonderful staff friendly', 'euro person worth', 'bottled water pop', 'bathroom spotless staff', 'staff knew name', 'ocean water warm', 'perfect minute walk', 'comfy bed large', 'staff nice service', 'room clean food', 'work day day', 'suite separate living', 'buffet hot cold', 'air conditioning enjoy', 'french toast pancake', 'negative review site', 'nice staff helpful', 'bar breakfast nice', 'helpful staff location'] \n",
      "\n",
      "\n",
      "top 50 words in topics3\n",
      "-------------------------\n",
      "['staff polite friendly', 'king bed sofa', 'wireless internet access', 'bed requested king', 'water white sand', 'beach absolutely amazing', 'bar bed comfortable', 'highly recommend property', 'food lot variety', 'bavaro princess march', 'internet access room', 'leave luggage check', 'location room staff', 'lot shop restaurant', 'free bottle wine', 'metro station block', 'numerous restaurant shop', 'room flat screen', 'towel left note', 'complimentary buffet breakfast', 'food excellent choice', 'booth side money', 'reading review worried', 'japanese breakfast buffet', 'spent glorious day', 'breakfast buffet person', 'volleyball water aerobics', 'main buffet lobby', 'minute walk tram', 'desk personnel helpful', 'helpful room nice', 'beach highly recommend', 'george metro station', 'street drink snack', 'food la cart', 'car rental place', 'nice staff helpful', 'pool huge nice', 'beach walk beach', 'reading review prior', 'spent beach beautiful', 'room spacious bed', 'quickly bargain boldly', 'pool bar close', 'staff exceptionally polite', 'beach absolutely beautiful', 'pool bar bartender', 'kid enjoyed pool', 'beach nice beach', 'pool bar drink'] \n",
      "\n",
      "\n",
      "top 50 words in topics4\n",
      "-------------------------\n",
      "['double bed pushed', 'helpful room small', 'comfortable bathroom lovely', 'towel beach chair', 'working air conditioning', 'incredibly comfortable bed', 'compelled write review', 'clean bed hard', 'pp visa enter', 'clean fresh towel', 'cleaning lady clean', 'family young kid', 'min walk beach', 'located main street', 'short walk train', 'location time square', 'stop walking distance', 'ceiling window view', 'bottled water pop', 'mountain view room', 'food bar restaurant', 'entertainment staff friendly', 'staff friendly clean', 'sport bar open', 'room nice service', 'free wifi room', 'walk puerta del', 'group friend family', 'clean room nice', 'daily continental breakfast', 'wanted central location', 'room flat screen', 'beautiful service excellent', 'clean beach clean', 'view room floor', 'complimentary buffet breakfast', 'breakfast buffet expensive', 'metro easy cheap', 'location easily accessible', 'breakfast worth euro', 'helpful room nice', 'walk park area', 'location close central', 'staff extremely warm', 'comfy bed nice', 'room clean food', 'pay rack rate', 'friendly helpful direction', 'friendly efficient staff', 'staff exceptionally polite'] \n",
      "\n",
      "\n"
     ]
    }
   ],
   "source": [
    "for ind ,topic in enumerate(lda_bigram.components_):\n",
    "    print(\"top 50 words in topics{}\".format(ind))\n",
    "    print('-'*25)\n",
    "    top_50=topic.argsort()[-50:]\n",
    "    print([feature[i] for i in top_50], '\\n\\n')"
   ]
  },
  {
   "cell_type": "code",
   "execution_count": null,
   "metadata": {},
   "outputs": [],
   "source": [
    "# 0-> Hotel facility\n",
    "#1-> food, bar,hotel restaurant\n",
    "# 2 -> Bad service\n",
    "# 3-> beach and food\n",
    "#4 -> staff"
   ]
  },
  {
   "cell_type": "markdown",
   "metadata": {},
   "source": [
    "# documents belonging to the topics"
   ]
  },
  {
   "cell_type": "code",
   "execution_count": 66,
   "metadata": {},
   "outputs": [
    {
     "data": {
      "text/plain": [
       "10000"
      ]
     },
     "execution_count": 66,
     "metadata": {},
     "output_type": "execute_result"
    }
   ],
   "source": [
    "len(lda_bigram.components_[1])"
   ]
  },
  {
   "cell_type": "code",
   "execution_count": 67,
   "metadata": {},
   "outputs": [
    {
     "name": "stdout",
     "output_type": "stream",
     "text": [
      "Shape of the df_final: (14343, 5)\n"
     ]
    }
   ],
   "source": [
    "# transform \n",
    "df_final = lda_bigram.transform(X)\n",
    "\n",
    "print('Shape of the df_final:', df_final.shape)"
   ]
  },
  {
   "cell_type": "code",
   "execution_count": 70,
   "metadata": {},
   "outputs": [
    {
     "data": {
      "text/html": [
       "<div>\n",
       "<style scoped>\n",
       "    .dataframe tbody tr th:only-of-type {\n",
       "        vertical-align: middle;\n",
       "    }\n",
       "\n",
       "    .dataframe tbody tr th {\n",
       "        vertical-align: top;\n",
       "    }\n",
       "\n",
       "    .dataframe thead th {\n",
       "        text-align: right;\n",
       "    }\n",
       "</style>\n",
       "<table border=\"1\" class=\"dataframe\">\n",
       "  <thead>\n",
       "    <tr style=\"text-align: right;\">\n",
       "      <th></th>\n",
       "      <th>ID</th>\n",
       "      <th>Review</th>\n",
       "      <th>Rating</th>\n",
       "      <th>topic</th>\n",
       "    </tr>\n",
       "  </thead>\n",
       "  <tbody>\n",
       "    <tr>\n",
       "      <th>0</th>\n",
       "      <td>0</td>\n",
       "      <td>exceptional service nice daughter priced king ...</td>\n",
       "      <td>5</td>\n",
       "      <td>1</td>\n",
       "    </tr>\n",
       "    <tr>\n",
       "      <th>1</th>\n",
       "      <td>1</td>\n",
       "      <td>beautiful relaxing jw marriott desert ridge ou...</td>\n",
       "      <td>5</td>\n",
       "      <td>3</td>\n",
       "    </tr>\n",
       "    <tr>\n",
       "      <th>2</th>\n",
       "      <td>2</td>\n",
       "      <td>location location min subway take blommingdale...</td>\n",
       "      <td>5</td>\n",
       "      <td>0</td>\n",
       "    </tr>\n",
       "    <tr>\n",
       "      <th>3</th>\n",
       "      <td>3</td>\n",
       "      <td>pleased nice safe flower market vast array res...</td>\n",
       "      <td>3</td>\n",
       "      <td>0</td>\n",
       "    </tr>\n",
       "    <tr>\n",
       "      <th>4</th>\n",
       "      <td>4</td>\n",
       "      <td>excellent service excellent location couple mi...</td>\n",
       "      <td>4</td>\n",
       "      <td>1</td>\n",
       "    </tr>\n",
       "  </tbody>\n",
       "</table>\n",
       "</div>"
      ],
      "text/plain": [
       "   ID                                             Review  Rating  topic\n",
       "0   0  exceptional service nice daughter priced king ...       5      1\n",
       "1   1  beautiful relaxing jw marriott desert ridge ou...       5      3\n",
       "2   2  location location min subway take blommingdale...       5      0\n",
       "3   3  pleased nice safe flower market vast array res...       3      0\n",
       "4   4  excellent service excellent location couple mi...       4      1"
      ]
     },
     "execution_count": 70,
     "metadata": {},
     "output_type": "execute_result"
    }
   ],
   "source": [
    "#assigning topics to dataframe\n",
    "train_data['topic'] = df_final.argmax(axis = 1)\n",
    "\n",
    "train_data.head()"
   ]
  },
  {
   "cell_type": "markdown",
   "metadata": {},
   "source": [
    "# Mapping topics with label"
   ]
  },
  {
   "cell_type": "code",
   "execution_count": 77,
   "metadata": {},
   "outputs": [
    {
     "data": {
      "text/html": [
       "<div>\n",
       "<style scoped>\n",
       "    .dataframe tbody tr th:only-of-type {\n",
       "        vertical-align: middle;\n",
       "    }\n",
       "\n",
       "    .dataframe tbody tr th {\n",
       "        vertical-align: top;\n",
       "    }\n",
       "\n",
       "    .dataframe thead th {\n",
       "        text-align: right;\n",
       "    }\n",
       "</style>\n",
       "<table border=\"1\" class=\"dataframe\">\n",
       "  <thead>\n",
       "    <tr style=\"text-align: right;\">\n",
       "      <th></th>\n",
       "      <th>ID</th>\n",
       "      <th>Review</th>\n",
       "      <th>Rating</th>\n",
       "      <th>topic</th>\n",
       "      <th>topic_name</th>\n",
       "    </tr>\n",
       "  </thead>\n",
       "  <tbody>\n",
       "    <tr>\n",
       "      <th>0</th>\n",
       "      <td>0</td>\n",
       "      <td>exceptional service nice daughter priced king ...</td>\n",
       "      <td>5</td>\n",
       "      <td>1</td>\n",
       "      <td>food, bar,hotel restaurant</td>\n",
       "    </tr>\n",
       "    <tr>\n",
       "      <th>1</th>\n",
       "      <td>1</td>\n",
       "      <td>beautiful relaxing jw marriott desert ridge ou...</td>\n",
       "      <td>5</td>\n",
       "      <td>3</td>\n",
       "      <td>beach and food</td>\n",
       "    </tr>\n",
       "    <tr>\n",
       "      <th>2</th>\n",
       "      <td>2</td>\n",
       "      <td>location location min subway take blommingdale...</td>\n",
       "      <td>5</td>\n",
       "      <td>0</td>\n",
       "      <td>Hotel Facility</td>\n",
       "    </tr>\n",
       "    <tr>\n",
       "      <th>3</th>\n",
       "      <td>3</td>\n",
       "      <td>pleased nice safe flower market vast array res...</td>\n",
       "      <td>3</td>\n",
       "      <td>0</td>\n",
       "      <td>Hotel Facility</td>\n",
       "    </tr>\n",
       "    <tr>\n",
       "      <th>4</th>\n",
       "      <td>4</td>\n",
       "      <td>excellent service excellent location couple mi...</td>\n",
       "      <td>4</td>\n",
       "      <td>1</td>\n",
       "      <td>food, bar,hotel restaurant</td>\n",
       "    </tr>\n",
       "  </tbody>\n",
       "</table>\n",
       "</div>"
      ],
      "text/plain": [
       "   ID                                             Review  Rating  topic  \\\n",
       "0   0  exceptional service nice daughter priced king ...       5      1   \n",
       "1   1  beautiful relaxing jw marriott desert ridge ou...       5      3   \n",
       "2   2  location location min subway take blommingdale...       5      0   \n",
       "3   3  pleased nice safe flower market vast array res...       3      0   \n",
       "4   4  excellent service excellent location couple mi...       4      1   \n",
       "\n",
       "                   topic_name  \n",
       "0  food, bar,hotel restaurant  \n",
       "1              beach and food  \n",
       "2              Hotel Facility  \n",
       "3              Hotel Facility  \n",
       "4  food, bar,hotel restaurant  "
      ]
     },
     "execution_count": 77,
     "metadata": {},
     "output_type": "execute_result"
    }
   ],
   "source": [
    "topic_label = {0:'Hotel Facility', 1:'food, bar,hotel restaurant', 2:'Bad service', 3:'beach and food', 4:'staff' }\n",
    "\n",
    "# mapping the dictionary with the dataframe to get the labels.\n",
    "train_data['topic_name'] = train_data['topic'].map(topic_label)\n",
    "train_data.head()\n"
   ]
  },
  {
   "cell_type": "code",
   "execution_count": 82,
   "metadata": {},
   "outputs": [
    {
     "data": {
      "text/plain": [
       "Rating  topic_name                \n",
       "1       beach and food                 346\n",
       "        Bad service                    174\n",
       "        Hotel Facility                 163\n",
       "        staff                          156\n",
       "        food, bar,hotel restaurant     138\n",
       "2       beach and food                 440\n",
       "        Hotel Facility                 265\n",
       "        food, bar,hotel restaurant     258\n",
       "        staff                          169\n",
       "        Bad service                    116\n",
       "3       food, bar,hotel restaurant     444\n",
       "        Hotel Facility                 436\n",
       "        beach and food                 382\n",
       "        staff                          174\n",
       "        Bad service                     74\n",
       "4       food, bar,hotel restaurant    1331\n",
       "        Hotel Facility                1278\n",
       "        beach and food                1016\n",
       "        staff                          417\n",
       "        Bad service                    130\n",
       "5       Hotel Facility                2056\n",
       "        food, bar,hotel restaurant    2030\n",
       "        beach and food                1385\n",
       "        staff                          684\n",
       "        Bad service                    281\n",
       "Name: topic_name, dtype: int64"
      ]
     },
     "execution_count": 82,
     "metadata": {},
     "output_type": "execute_result"
    }
   ],
   "source": [
    "train_data.groupby(['Rating'])['topic_name'].value_counts()"
   ]
  },
  {
   "cell_type": "code",
   "execution_count": 86,
   "metadata": {},
   "outputs": [
    {
     "data": {
      "text/plain": [
       "<AxesSubplot:xlabel='Rating'>"
      ]
     },
     "execution_count": 86,
     "metadata": {},
     "output_type": "execute_result"
    },
    {
     "data": {
      "image/png": "[encoded data removed]",
      "text/plain": [
       "<Figure size 1080x720 with 1 Axes>"
      ]
     },
     "metadata": {
      "needs_background": "light"
     },
     "output_type": "display_data"
    }
   ],
   "source": [
    "train_data.groupby(['Rating'])['topic_name'].value_counts().unstack('topic_name').plot(kind='bar', stacked=True,figsize=(15,10))"
   ]
  },
  {
   "cell_type": "code",
   "execution_count": null,
   "metadata": {},
   "outputs": [],
   "source": []
  }
 ],
 "metadata": {
  "kernelspec": {
   "display_name": "Python 3",
   "language": "python",
   "name": "python3"
  },
  "language_info": {
   "codemirror_mode": {
    "name": "ipython",
    "version": 3
   },
   "file_extension": ".py",
   "mimetype": "text/x-python",
   "name": "python",
   "nbconvert_exporter": "python",
   "pygments_lexer": "ipython3",
   "version": "3.7.4"
  }
 },
 "nbformat": 4,
 "nbformat_minor": 4
}
